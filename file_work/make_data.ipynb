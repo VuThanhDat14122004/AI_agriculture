{
 "cells": [
  {
   "cell_type": "markdown",
   "id": "71546001",
   "metadata": {},
   "source": [
    "## Import libraries"
   ]
  },
  {
   "cell_type": "code",
   "execution_count": 1,
   "id": "38c87320",
   "metadata": {},
   "outputs": [],
   "source": [
    "import xml.etree.ElementTree as ET\n",
    "import glob\n",
    "import cv2\n",
    "import os"
   ]
  },
  {
   "cell_type": "markdown",
   "id": "565f2f1c",
   "metadata": {},
   "source": [
    "## Define paths"
   ]
  },
  {
   "cell_type": "code",
   "execution_count": 2,
   "id": "4c475695",
   "metadata": {},
   "outputs": [],
   "source": [
    "annotation_file_path = '../archive/annotations.xml'\n",
    "images_folder_path = '../archive/'\n",
    "save_img_folder_path_train = \"data/images/train/\"\n",
    "save_label_folder_path_train = \"data/labels/train/\"\n",
    "save_img_folder_path_val = \"data/images/val/\"\n",
    "save_label_folder_path_val = \"data/labels/val/\""
   ]
  },
  {
   "cell_type": "markdown",
   "id": "3d770dc6",
   "metadata": {},
   "source": [
    "## Define function to get information from xml file"
   ]
  },
  {
   "cell_type": "code",
   "execution_count": 3,
   "id": "e3682a9c",
   "metadata": {},
   "outputs": [],
   "source": [
    "def parse_annotation(xml_path):\n",
    "    images_path = []\n",
    "    all_bboxes = []\n",
    "    tree = ET.parse(xml_path)\n",
    "    root = tree.getroot()\n",
    "    for image in root.findall(\"image\"):\n",
    "        images_path.append(image.attrib['name'])\n",
    "        width_img = float(image.attrib[\"width\"])\n",
    "        height_img = float(image.attrib[\"height\"])\n",
    "        boxes = []\n",
    "        for box in image.findall(\"box\"):\n",
    "            xtl = float(box.attrib['xtl'])\n",
    "            ytl = float(box.attrib['ytl'])\n",
    "            xbr = float(box.attrib['xbr'])\n",
    "            ybr = float(box.attrib['ybr'])\n",
    "            x_c = (xtl + xbr)/2\n",
    "            y_c = (ytl + ybr)/2\n",
    "            w = xbr - xtl\n",
    "            h = ybr - ytl\n",
    "            boxes.append([x_c/width_img, y_c/height_img, w/width_img, h/height_img])\n",
    "        all_bboxes.append(boxes)\n",
    "    return images_path, all_bboxes\n"
   ]
  },
  {
   "cell_type": "markdown",
   "id": "723e500c",
   "metadata": {},
   "source": [
    "## Get data and split to train and evaluate"
   ]
  },
  {
   "cell_type": "code",
   "execution_count": 4,
   "id": "2272908d",
   "metadata": {},
   "outputs": [],
   "source": [
    "images_path, all_bboxes = parse_annotation(annotation_file_path)"
   ]
  },
  {
   "cell_type": "code",
   "execution_count": 6,
   "id": "5270c8ab",
   "metadata": {},
   "outputs": [],
   "source": [
    "n_o_t = int(0.8*len(images_path))\n",
    "images_path_train = images_path[:n_o_t]\n",
    "all_bboxes_train = all_bboxes[:n_o_t]\n",
    "images_path_val = images_path[n_o_t:]\n",
    "all_bboxes_val = all_bboxes[n_o_t:]"
   ]
  },
  {
   "cell_type": "markdown",
   "id": "98323058",
   "metadata": {},
   "source": [
    "## Save data"
   ]
  },
  {
   "cell_type": "code",
   "execution_count": 25,
   "id": "634b7252",
   "metadata": {},
   "outputs": [],
   "source": [
    "def save_data(img_folder, images_path, save_img_folder_path, save_label_folder_path, all_bboxes):\n",
    "    for i in range(len(images_path)):\n",
    "        path = images_path[i]\n",
    "        file_name = path.split(\"/\")[1].split(\".\")[0]\n",
    "        img = cv2.imread(img_folder+path)\n",
    "        cv2.imwrite(save_img_folder_path + file_name + \".png\", img)\n",
    "        bboxes = all_bboxes[i]\n",
    "        full_path = os.path.join(save_label_folder_path, file_name + \".txt\")\n",
    "        with open(full_path, 'w', encoding=\"utf-8\") as f:\n",
    "            for box in bboxes:\n",
    "                text = f\"{0} {box[0]} {box[1]} {box[2]} {box[3]}\\n\"\n",
    "                f.write(text)"
   ]
  },
  {
   "cell_type": "code",
   "execution_count": 26,
   "id": "3551f913",
   "metadata": {},
   "outputs": [],
   "source": [
    "save_data(images_folder_path, images_path_train, save_img_folder_path_train, save_label_folder_path_train, all_bboxes_train)"
   ]
  },
  {
   "cell_type": "code",
   "execution_count": 27,
   "id": "ec695a1c",
   "metadata": {},
   "outputs": [],
   "source": [
    "save_data(images_folder_path, images_path_val, save_img_folder_path_val, save_label_folder_path_val, all_bboxes_val)"
   ]
  }
 ],
 "metadata": {
  "kernelspec": {
   "display_name": "Python 3",
   "language": "python",
   "name": "python3"
  },
  "language_info": {
   "codemirror_mode": {
    "name": "ipython",
    "version": 3
   },
   "file_extension": ".py",
   "mimetype": "text/x-python",
   "name": "python",
   "nbconvert_exporter": "python",
   "pygments_lexer": "ipython3",
   "version": "3.9.0"
  }
 },
 "nbformat": 4,
 "nbformat_minor": 5
}
